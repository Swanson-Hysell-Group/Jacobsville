{
 "cells": [
  {
   "cell_type": "markdown",
   "id": "8cdb75e1-3f36-4eb0-9b21-3ce1fa6f3797",
   "metadata": {},
   "source": [
    "# Notebook for rewriting demag_gui.redo file color assignment\n",
    "\n",
    "- so that the color in pmag.gui for each component stay consistent throughout "
   ]
  },
  {
   "cell_type": "code",
   "execution_count": 1,
   "id": "edd44811-a9c8-4f69-8ae1-0584cb30620a",
   "metadata": {},
   "outputs": [],
   "source": [
    "import pandas as pd\n",
    "import numpy as np"
   ]
  },
  {
   "cell_type": "code",
   "execution_count": 2,
   "id": "249aa7e9-5752-4d09-b8d3-790071c19435",
   "metadata": {},
   "outputs": [
    {
     "data": {
      "text/plain": [
       "lt     #32CD32\n",
       "hct    #4ED740\n",
       "hdt    #9840D7\n",
       "dtype: object"
      ]
     },
     "execution_count": 2,
     "metadata": {},
     "output_type": "execute_result"
    }
   ],
   "source": [
    "fit_names = ['lt', 'hct', 'hdt']\n",
    "fit_colors = ['#32CD32', '#4ED740', '#9840D7']\n",
    "fit_series = pd.Series(data = fit_colors, index=fit_names)\n",
    "fit_series"
   ]
  },
  {
   "cell_type": "code",
   "execution_count": 3,
   "id": "ddb21043-ab14-426d-8da9-913cba326f29",
   "metadata": {},
   "outputs": [
    {
     "data": {
      "text/html": [
       "<div>\n",
       "<style scoped>\n",
       "    .dataframe tbody tr th:only-of-type {\n",
       "        vertical-align: middle;\n",
       "    }\n",
       "\n",
       "    .dataframe tbody tr th {\n",
       "        vertical-align: top;\n",
       "    }\n",
       "\n",
       "    .dataframe thead th {\n",
       "        text-align: right;\n",
       "    }\n",
       "</style>\n",
       "<table border=\"1\" class=\"dataframe\">\n",
       "  <thead>\n",
       "    <tr style=\"text-align: right;\">\n",
       "      <th></th>\n",
       "      <th>0</th>\n",
       "      <th>1</th>\n",
       "      <th>2</th>\n",
       "      <th>3</th>\n",
       "      <th>4</th>\n",
       "      <th>5</th>\n",
       "      <th>6</th>\n",
       "    </tr>\n",
       "  </thead>\n",
       "  <tbody>\n",
       "    <tr>\n",
       "      <th>0</th>\n",
       "      <td>AF1-1a</td>\n",
       "      <td>DE-BFL</td>\n",
       "      <td>673</td>\n",
       "      <td>873</td>\n",
       "      <td>hct</td>\n",
       "      <td>#4ED740</td>\n",
       "      <td>g</td>\n",
       "    </tr>\n",
       "    <tr>\n",
       "      <th>1</th>\n",
       "      <td>AF1-1a</td>\n",
       "      <td>DE-BFL-A</td>\n",
       "      <td>923</td>\n",
       "      <td>959</td>\n",
       "      <td>hdt</td>\n",
       "      <td>#9840D7</td>\n",
       "      <td>g</td>\n",
       "    </tr>\n",
       "    <tr>\n",
       "      <th>2</th>\n",
       "      <td>AF1-2a</td>\n",
       "      <td>DE-BFL-A</td>\n",
       "      <td>913</td>\n",
       "      <td>959</td>\n",
       "      <td>hdt</td>\n",
       "      <td>#9840D7</td>\n",
       "      <td>g</td>\n",
       "    </tr>\n",
       "    <tr>\n",
       "      <th>3</th>\n",
       "      <td>AF1-4a</td>\n",
       "      <td>DE-BFL-A</td>\n",
       "      <td>923</td>\n",
       "      <td>959</td>\n",
       "      <td>hdt</td>\n",
       "      <td>#9840D7</td>\n",
       "      <td>g</td>\n",
       "    </tr>\n",
       "    <tr>\n",
       "      <th>4</th>\n",
       "      <td>AF1-4a</td>\n",
       "      <td>DE-BFL</td>\n",
       "      <td>473</td>\n",
       "      <td>773</td>\n",
       "      <td>hct</td>\n",
       "      <td>#4ED740</td>\n",
       "      <td>g</td>\n",
       "    </tr>\n",
       "    <tr>\n",
       "      <th>...</th>\n",
       "      <td>...</td>\n",
       "      <td>...</td>\n",
       "      <td>...</td>\n",
       "      <td>...</td>\n",
       "      <td>...</td>\n",
       "      <td>...</td>\n",
       "      <td>...</td>\n",
       "    </tr>\n",
       "    <tr>\n",
       "      <th>626</th>\n",
       "      <td>SC1-72a</td>\n",
       "      <td>DE-BFL</td>\n",
       "      <td>0</td>\n",
       "      <td>473</td>\n",
       "      <td>lt</td>\n",
       "      <td>#32CD32</td>\n",
       "      <td>g</td>\n",
       "    </tr>\n",
       "    <tr>\n",
       "      <th>627</th>\n",
       "      <td>SC1-73a</td>\n",
       "      <td>DE-BFL-A</td>\n",
       "      <td>923</td>\n",
       "      <td>959</td>\n",
       "      <td>hdt</td>\n",
       "      <td>#9840D7</td>\n",
       "      <td>g</td>\n",
       "    </tr>\n",
       "    <tr>\n",
       "      <th>628</th>\n",
       "      <td>SC1-73a</td>\n",
       "      <td>DE-BFL</td>\n",
       "      <td>0</td>\n",
       "      <td>473</td>\n",
       "      <td>hct</td>\n",
       "      <td>#4ED740</td>\n",
       "      <td>g</td>\n",
       "    </tr>\n",
       "    <tr>\n",
       "      <th>629</th>\n",
       "      <td>SC1-74a</td>\n",
       "      <td>DE-BFL-A</td>\n",
       "      <td>923</td>\n",
       "      <td>959</td>\n",
       "      <td>hdt</td>\n",
       "      <td>#9840D7</td>\n",
       "      <td>g</td>\n",
       "    </tr>\n",
       "    <tr>\n",
       "      <th>630</th>\n",
       "      <td>SC1-75a</td>\n",
       "      <td>DE-BFL-A</td>\n",
       "      <td>913</td>\n",
       "      <td>959</td>\n",
       "      <td>hdt</td>\n",
       "      <td>#9840D7</td>\n",
       "      <td>g</td>\n",
       "    </tr>\n",
       "  </tbody>\n",
       "</table>\n",
       "<p>631 rows × 7 columns</p>\n",
       "</div>"
      ],
      "text/plain": [
       "           0         1    2    3    4        5  6\n",
       "0     AF1-1a    DE-BFL  673  873  hct  #4ED740  g\n",
       "1     AF1-1a  DE-BFL-A  923  959  hdt  #9840D7  g\n",
       "2     AF1-2a  DE-BFL-A  913  959  hdt  #9840D7  g\n",
       "3     AF1-4a  DE-BFL-A  923  959  hdt  #9840D7  g\n",
       "4     AF1-4a    DE-BFL  473  773  hct  #4ED740  g\n",
       "..       ...       ...  ...  ...  ...      ... ..\n",
       "626  SC1-72a    DE-BFL    0  473   lt  #32CD32  g\n",
       "627  SC1-73a  DE-BFL-A  923  959  hdt  #9840D7  g\n",
       "628  SC1-73a    DE-BFL    0  473  hct  #4ED740  g\n",
       "629  SC1-74a  DE-BFL-A  923  959  hdt  #9840D7  g\n",
       "630  SC1-75a  DE-BFL-A  913  959  hdt  #9840D7  g\n",
       "\n",
       "[631 rows x 7 columns]"
      ]
     },
     "execution_count": 3,
     "metadata": {},
     "output_type": "execute_result"
    }
   ],
   "source": [
    "redo_file = pd.read_csv('../Data/Pmag_new/demag_gui.redo', sep='\\t', header=None)\n",
    "redo_file"
   ]
  },
  {
   "cell_type": "code",
   "execution_count": 4,
   "id": "35640254-0971-44fd-bf75-57624fa378c5",
   "metadata": {},
   "outputs": [],
   "source": [
    "redo_file[5] = [fit_series[i] for i in redo_file[4]]"
   ]
  },
  {
   "cell_type": "code",
   "execution_count": 5,
   "id": "9a971dea-6302-4467-8c5c-5da43e711e9b",
   "metadata": {},
   "outputs": [],
   "source": [
    "redo_file.to_csv('../Data/Pmag_new/new_demag_gui.redo', sep='\\t', header=None, index=False)"
   ]
  },
  {
   "cell_type": "code",
   "execution_count": null,
   "id": "d9c5e2e1-26fa-4ec5-8316-6ef897428d1c",
   "metadata": {},
   "outputs": [],
   "source": []
  },
  {
   "cell_type": "code",
   "execution_count": null,
   "id": "195fa388-ca45-4d5a-adf0-24a6e039fbbc",
   "metadata": {},
   "outputs": [],
   "source": []
  },
  {
   "cell_type": "code",
   "execution_count": null,
   "id": "64db76b2-501b-4f68-8429-d175acb08936",
   "metadata": {},
   "outputs": [],
   "source": []
  },
  {
   "cell_type": "code",
   "execution_count": null,
   "id": "26aa1b4c-acff-4039-bdb5-a94cfa09dbe9",
   "metadata": {},
   "outputs": [],
   "source": []
  },
  {
   "cell_type": "code",
   "execution_count": null,
   "id": "668b6ebb-757f-4fe6-9462-f734456194cf",
   "metadata": {},
   "outputs": [],
   "source": []
  },
  {
   "cell_type": "code",
   "execution_count": null,
   "id": "6c3e71d4-0fed-490e-82af-23e0eefba232",
   "metadata": {},
   "outputs": [],
   "source": []
  },
  {
   "cell_type": "code",
   "execution_count": null,
   "id": "3e953d26-fc77-4807-83f3-dcb44bc4c5f6",
   "metadata": {},
   "outputs": [],
   "source": []
  },
  {
   "cell_type": "code",
   "execution_count": null,
   "id": "21d23a9f-8c1e-42f5-9bdb-979432258470",
   "metadata": {},
   "outputs": [],
   "source": []
  },
  {
   "cell_type": "code",
   "execution_count": null,
   "id": "f5613300-cbed-4e07-bb71-0e670c377bfd",
   "metadata": {},
   "outputs": [],
   "source": []
  },
  {
   "cell_type": "code",
   "execution_count": null,
   "id": "f601c6dc-cea8-4dce-b9af-123589ea23c4",
   "metadata": {},
   "outputs": [],
   "source": []
  },
  {
   "cell_type": "code",
   "execution_count": null,
   "id": "f410c5a2-cd69-493f-baa3-8ac013e587f3",
   "metadata": {},
   "outputs": [],
   "source": []
  }
 ],
 "metadata": {
  "kernelspec": {
   "display_name": "Python 3",
   "language": "python",
   "name": "python3"
  },
  "language_info": {
   "codemirror_mode": {
    "name": "ipython",
    "version": 3
   },
   "file_extension": ".py",
   "mimetype": "text/x-python",
   "name": "python",
   "nbconvert_exporter": "python",
   "pygments_lexer": "ipython3",
   "version": "3.7.6"
  }
 },
 "nbformat": 4,
 "nbformat_minor": 5
}
